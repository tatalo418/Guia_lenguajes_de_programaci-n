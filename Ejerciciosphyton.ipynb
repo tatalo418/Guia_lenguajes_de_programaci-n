{
  "nbformat": 4,
  "nbformat_minor": 0,
  "metadata": {
    "colab": {
      "provenance": [],
      "authorship_tag": "ABX9TyOhiV6Mbs+f+oGd89/tmY6D",
      "include_colab_link": true
    },
    "kernelspec": {
      "name": "python3",
      "display_name": "Python 3"
    },
    "language_info": {
      "name": "python"
    }
  },
  "cells": [
    {
      "cell_type": "markdown",
      "metadata": {
        "id": "view-in-github",
        "colab_type": "text"
      },
      "source": [
        "<a href=\"https://colab.research.google.com/github/tatalo418/Guia_lenguajes_de_programaci-n/blob/main/Ejerciciosphyton.ipynb\" target=\"_parent\"><img src=\"https://colab.research.google.com/assets/colab-badge.svg\" alt=\"Open In Colab\"/></a>"
      ]
    },
    {
      "cell_type": "markdown",
      "source": [
        "# Ejercicio 1: Variables tipo string\n",
        "# Contexto: Un banco necesita almacenar el nombre de sus clientes. almacena 5 clientes en 5 variables diferentes\n"
      ],
      "metadata": {
        "id": "k7LsO5pPbNYr"
      }
    },
    {
      "cell_type": "code",
      "source": [
        "#Ingrese codigo aquí\n",
        "\n",
        "nom_cliente1 = \"Juan\"\n",
        "nom_cliente2 = \"María\"\n",
        "nom_cliente3 = \"Carlos\"\n",
        "nom_cliente4 = \"Ana\"\n",
        "nom_cliente5 = \"Luis\"\n",
        "\n",
        "# variables para guardar el mensaje con el nombre cliente.\n",
        "\n",
        "Mensaje1 = f\"Nombre del cliente 1: {nom_cliente1}\"\n",
        "mensaje2 = f\"Nombre del cliente 2: {nom_cliente2}\"\n",
        "mensaje3 = f\"Nombre del cliente 3: {nom_cliente3}\"\n",
        "mensaje4 = f\"Nombre del cliente 4: {nom_cliente4}\"\n",
        "mensaje5 = f\"Nombre del cliente 5: {nom_cliente5}\"\n",
        "\n",
        "\n",
        "print(Mensaje1)\n",
        "print(mensaje2)\n",
        "print(mensaje3)\n",
        "print(mensaje4)\n",
        "print(mensaje5)"
      ],
      "metadata": {
        "colab": {
          "base_uri": "https://localhost:8080/"
        },
        "id": "aCB8_a5EaimK",
        "outputId": "26cd3f70-7b50-4e73-99f6-ee9d414d800a"
      },
      "execution_count": 2,
      "outputs": [
        {
          "output_type": "stream",
          "name": "stdout",
          "text": [
            "Nombre del cliente 1: Juan\n",
            "Nombre del cliente 2: María\n",
            "Nombre del cliente 3: Carlos\n",
            "Nombre del cliente 4: Ana\n",
            "Nombre del cliente 5: Luis\n"
          ]
        }
      ]
    },
    {
      "cell_type": "code",
      "source": [
        "print(f\"Nombre del cliente 1:{nom_cliente1}\")"
      ],
      "metadata": {
        "colab": {
          "base_uri": "https://localhost:8080/"
        },
        "id": "YFchQeHVcQRl",
        "outputId": "e1fc3e77-cb2c-4cc5-9a8c-469e6c787431"
      },
      "execution_count": 5,
      "outputs": [
        {
          "output_type": "stream",
          "name": "stdout",
          "text": [
            "Nombre del cliente 1:Juan\n"
          ]
        }
      ]
    },
    {
      "cell_type": "markdown",
      "source": [
        "# Ejercicio 2: Concatenación de Strings\n",
        "# Contexto: Al generar reportes, el banco quiere mostrar el tipo de cuenta junto al nombre del cliente. realiza el ejercicio para las 5 variables"
      ],
      "metadata": {
        "id": "MTswLZOlbcD2"
      }
    },
    {
      "cell_type": "code",
      "source": [
        "# Ingresa código aqui\n",
        "\n",
        "cuenta1 = \"Cuenta de ahorros\"\n",
        "cuenta2 = \"Cuenta corriente\"\n",
        "cuenta3 = \"Cuenta de crédito\"\n",
        "cuenta4 = \"Cuenta de ahorro a la mano \"\n",
        "cuenta5 = \"Cuenta de nequi\"\n",
        "\n",
        "mensaje2 = f\"El cliente {nom_cliente1} tiene una {cuenta1}\"\n",
        "mensaje2\n",
        "print(mensaje2)"
      ],
      "metadata": {
        "colab": {
          "base_uri": "https://localhost:8080/"
        },
        "id": "mWng3mDYbki6",
        "outputId": "8202c373-1bbe-48cb-9c36-df8a6dc60179"
      },
      "execution_count": 3,
      "outputs": [
        {
          "output_type": "stream",
          "name": "stdout",
          "text": [
            "El cliente Juan tiene una Cuenta de ahorros\n"
          ]
        }
      ]
    },
    {
      "cell_type": "markdown",
      "source": [
        "# Ejercicio 4: Formateo de Variables\n",
        "# Contexto: Un banco necesita mostrar el saldo de un cliente con formato adecuado."
      ],
      "metadata": {
        "id": "R_rnqtKWbqaY"
      }
    },
    {
      "cell_type": "code",
      "source": [
        "#Ingrese el código aquí\n",
        "\n",
        "saldo_cliente1 = 1000000\n",
        "saldo_cliente2 = 500000\n",
        "saldo_cliente3 = 250000\n",
        "saldo_cliente4 = 150000\n",
        "saldo_cliente5 = 800000\n",
        "\n",
        "mensaje3 = f\"El saldo del cliente {nom_cliente1} es de ${saldo_cliente1}\"\n",
        "mensaje4 = f\"El saldo del cliente {nom_cliente2} es de ${saldo_cliente2}\"\n",
        "mensaje5 = f\"El saldo del cliente {nom_cliente3} es de ${saldo_cliente3}\"\n",
        "mensaje6 = f\"El saldo del cliente {nom_cliente4} es de ${saldo_cliente4}\"\n",
        "mensaje7 = f\"El saldo del cliente {nom_cliente5} es de ${saldo_cliente5}\"\n",
        "\n",
        "print(mensaje3)\n",
        "print(mensaje4)\n",
        "print(mensaje5)\n",
        "print(mensaje6)\n",
        "print(mensaje7)\n",
        "\n",
        "\n"
      ],
      "metadata": {
        "colab": {
          "base_uri": "https://localhost:8080/"
        },
        "id": "yIjRORLTb0A_",
        "outputId": "4de2f0a3-e09c-43b1-ac58-230c5fdaf0e7"
      },
      "execution_count": 4,
      "outputs": [
        {
          "output_type": "stream",
          "name": "stdout",
          "text": [
            "El saldo del cliente Juan es de $1000000\n",
            "El saldo del cliente María es de $500000\n",
            "El saldo del cliente Carlos es de $250000\n",
            "El saldo del cliente Ana es de $150000\n",
            "El saldo del cliente Luis es de $800000\n"
          ]
        }
      ]
    },
    {
      "cell_type": "code",
      "source": [
        "# Ejercicio 5: Entrada de Datos\n",
        "# Contexto: Un cliente ingresa su número de identificación para consultar su estado de cuenta. crea para cada cliente una variable de identificacion\n",
        "\n",
        "id_cliente = input(\"Ingrese su número de identificación: \")\n",
        "print(\"ID registrado:\", id_cliente)"
      ],
      "metadata": {
        "colab": {
          "base_uri": "https://localhost:8080/"
        },
        "id": "cbI8-pMFcdYW",
        "outputId": "3b72d15f-0cb7-4065-cad4-2f7fdd6dbec8"
      },
      "execution_count": 6,
      "outputs": [
        {
          "output_type": "stream",
          "name": "stdout",
          "text": [
            "Ingrese su número de identificación: 1036680892\n",
            "ID registrado: 1036680892\n"
          ]
        }
      ]
    },
    {
      "cell_type": "code",
      "source": [
        "#inserte código aqui\n",
        "\n",
        "id_cliente1 = input(\"Ingrese su número de identificación: \")\n",
        "id_cliente2 = input(\"Ingrese su número de identificación: \")\n",
        "id_cliente3 = input(\"Ingrese su número de identificación: \")\n",
        "id_cliente4 = input(\"Ingrese su número de identificación: \")\n",
        "id_cliente5 = input(\"Ingrese su número de identificación: \")\n",
        "\n",
        "print(\"ID registrado:\", id_cliente1)\n"
      ],
      "metadata": {
        "colab": {
          "base_uri": "https://localhost:8080/"
        },
        "id": "cHgTiD4Rcz8m",
        "outputId": "28cb3471-3226-41d2-e542-f31d1c0183bf"
      },
      "execution_count": 7,
      "outputs": [
        {
          "output_type": "stream",
          "name": "stdout",
          "text": [
            "Ingrese su número de identificación: 1036680892\n",
            "Ingrese su número de identificación: 354\n",
            "Ingrese su número de identificación: 322\n",
            "Ingrese su número de identificación: 354\n",
            "Ingrese su número de identificación: 369\n",
            "ID registrado: 1036680892\n"
          ]
        }
      ]
    },
    {
      "cell_type": "code",
      "source": [
        "# Ejercicio 6: Variables Booleanas\n",
        "# Contexto: Validar si un cliente tiene derecho a un préstamo. crea tres ejercicios con variables booleanas\n",
        "\n",
        "ingresos_mensuales = 3000\n",
        "historial_crediticio = True\n",
        "es_aprobado = ingresos_mensuales > 2500 and historial_crediticio\n",
        "print(\"¿El cliente es aprobado para el préstamo?:\", es_aprobado)"
      ],
      "metadata": {
        "colab": {
          "base_uri": "https://localhost:8080/"
        },
        "id": "oYHbD5f6dIN7",
        "outputId": "cb2b28ad-5414-4bf6-8798-e8ecafa12070"
      },
      "execution_count": 8,
      "outputs": [
        {
          "output_type": "stream",
          "name": "stdout",
          "text": [
            "¿El cliente es aprobado para el préstamo?: True\n"
          ]
        }
      ]
    },
    {
      "cell_type": "code",
      "source": [
        "#inserte código aqui\n",
        "\n",
        "ingresos_mensuales = 2000\n",
        "historial_crediticio = False\n",
        "es_aprobado = ingresos_mensuales > 2500 and historial_crediticio\n",
        "print(\"¿El cliente es aprobado para el préstamo?:\", es_aprobado)"
      ],
      "metadata": {
        "colab": {
          "base_uri": "https://localhost:8080/"
        },
        "id": "jRUTRGgkdfb4",
        "outputId": "1a286329-e62c-4c78-dceb-65a11280d797"
      },
      "execution_count": 9,
      "outputs": [
        {
          "output_type": "stream",
          "name": "stdout",
          "text": [
            "¿El cliente es aprobado para el préstamo?: False\n"
          ]
        }
      ]
    }
  ]
}